{
 "cells": [
  {
   "cell_type": "markdown",
   "id": "26a62ea7",
   "metadata": {},
   "source": [
    "# Co2 Decoupling"
   ]
  },
  {
   "cell_type": "markdown",
   "id": "9947d709",
   "metadata": {},
   "source": [
    "## Setting up Enviorment"
   ]
  },
  {
   "cell_type": "code",
   "execution_count": 1,
   "id": "5859eff5",
   "metadata": {},
   "outputs": [],
   "source": [
    "#imports\n",
    "import pandas as pd\n",
    "import numpy as np\n",
    "import matplotlib.pyplot as plt\n",
    "from sklearn.model_selection import train_test_split\n",
    "from sklearn.linear_model import LinearRegression\n",
    "from sklearn.svm import SVR\n",
    "from sklearn.preprocessing import PolynomialFeatures\n",
    "from sklearn.metrics import r2_score, root_mean_squared_error\n",
    "import joblib as jb"
   ]
  },
  {
   "cell_type": "code",
   "execution_count": 2,
   "id": "dbbd37a8",
   "metadata": {},
   "outputs": [],
   "source": [
    "import os\n",
    "os.chdir(os.path.expanduser(\"C:\\\\Users\\\\Nico\\\\Desktop\\\\Personal Projects Data Science\\\\Co2 predictions\"))\n",
    "\n",
    "from co2mdl import TrainModel, TrainSVR"
   ]
  },
  {
   "cell_type": "code",
   "execution_count": 3,
   "id": "a9e41561",
   "metadata": {},
   "outputs": [],
   "source": [
    "#read in\n",
    "df_all_raw = pd.read_csv('owid-co2-data.csv')\n",
    "pop_raw = pd.read_csv('PopPrediction.csv')"
   ]
  },
  {
   "cell_type": "code",
   "execution_count": 4,
   "id": "63da6bf0",
   "metadata": {},
   "outputs": [],
   "source": [
    "#filtering\n",
    "df_all = df_all_raw[df_all_raw['gdp'].isnull() == False]\n",
    "df_all = df_all[df_all['co2'].isnull() == False]\n",
    "df_all['gdp_per_capita'] = df_all['gdp']/df_all['population']\n",
    "\n",
    "df_co2 = df_all[['iso_code','year','population','gdp','gdp_per_capita','co2']]"
   ]
  },
  {
   "cell_type": "code",
   "execution_count": 5,
   "id": "727516a1",
   "metadata": {},
   "outputs": [],
   "source": [
    "#filtering\n",
    "pop = pop_raw[['location_name','year_id','scenario_name','val']]\n",
    "pop = pop[pop['scenario_name'] == 'Reference'][['location_name','year_id','val']]\n",
    "pop.columns = ['country', 'year','population']\n",
    "pop = pop[pop['year'] >= 2023]"
   ]
  },
  {
   "cell_type": "markdown",
   "id": "9a62565c",
   "metadata": {},
   "source": [
    "## Splitting apart the DataFrames\n",
    "\n",
    "The goal here is to further clean the data sets specifically mathching data between the population and co2 data"
   ]
  },
  {
   "cell_type": "code",
   "execution_count": 6,
   "id": "04131ec9",
   "metadata": {},
   "outputs": [],
   "source": [
    "isocodes = df_co2['iso_code'].unique() #getting all the iso codes with co2 data\n",
    "isocodes = isocodes[~pd.isnull(isocodes)] #dropping all null iso codes (ie Africa, World, etc)\n",
    "isocodes = np.delete(isocodes, np.where(isocodes == 'HKG')) #Hong Kong does not have populations prediction data"
   ]
  },
  {
   "cell_type": "code",
   "execution_count": 7,
   "id": "d39067a7",
   "metadata": {},
   "outputs": [],
   "source": [
    "to_iso = df_all[['country','iso_code']].drop_duplicates() #creating a data frame to translate iso codes to country"
   ]
  },
  {
   "cell_type": "code",
   "execution_count": 8,
   "id": "216b2ff2",
   "metadata": {},
   "outputs": [],
   "source": [
    "#standardizing the names of all the countries\n",
    "\n",
    "fixed = []\n",
    "\n",
    "for i in isocodes:\n",
    "    #getting the popultion prediction dataframe\n",
    "    #if pops is empty, then there is a country name mismatch\n",
    "    locate = to_iso[to_iso['iso_code'] == i]\n",
    "    country = locate['country'].loc[locate.index[0]]\n",
    "    pops = pop[pop['country'] == country][['year','population']]\n",
    "    \n",
    "    if len(pops) == 0:\n",
    "        #finding all the mismatches\n",
    "        app = to_iso[to_iso['iso_code'] == i]\n",
    "        app = app['country'].loc[app.index[0]]\n",
    "        fixed.append(app)\n",
    "\n",
    "correct = ['Bolivia (Plurinational State of)','Cabo Verde',\"Côte d'Ivoire\",'Democratic Republic of the Congo',\n",
    "          'Iran (Islamic Republic of)',\"Lao People's Democratic Republic\",'Republic of Moldova',\n",
    "          \"Democratic People's Republic of Korea\",'Russian Federation','Republic of Korea','Syrian Arab Republic',\n",
    "          'Taiwan (Province of China)','United Republic of Tanzania','United States of America',\n",
    "          'Venezuela (Bolivarian Republic of)','Viet Nam']\n",
    "\n",
    "#correcting all the mismatches\n",
    "for i in range(len(fixed)):\n",
    "    pop.loc[pop['country'] == correct[i], 'country'] = fixed[i]"
   ]
  },
  {
   "cell_type": "markdown",
   "id": "18126975",
   "metadata": {},
   "source": [
    "## GDP Models\n",
    "\n",
    "We will train the GDP models and predict future GDP using those models"
   ]
  },
  {
   "cell_type": "code",
   "execution_count": 9,
   "id": "25c14c18",
   "metadata": {
    "scrolled": true
   },
   "outputs": [],
   "source": [
    "#training the gdp models, all of these are done through polygraphs\n",
    "'''\n",
    "gdpmodels = {}\n",
    "\n",
    "for i in isocodes:\n",
    "    dftemp = df_co2[df_co2['iso_code'] == i] #getting all data related to once specific country\n",
    "    \n",
    "    #initializing model\n",
    "    modelgdp_int = LinearRegression()\n",
    "    polygdp_int = PolynomialFeatures(degree=2)\n",
    "    \n",
    "    #splitting into features and target data\n",
    "    Xgdp = dftemp[['year','population']]\n",
    "    ygdp = dftemp['gdp']\n",
    "    \n",
    "    #training the model\n",
    "    gdpModel = TrainModel(modelgdp_int, polygdp_int, Xgdp, ygdp, threshold=0.65)\n",
    "    \n",
    "    modelgdp, polygdp, refgdp, gdp_target, gdp_test, gdp_test_data = gdpModel\n",
    "    \n",
    "    #saving it to the dictionary defined above\n",
    "    gdpmodels[i] = [modelgdp,polygdp,gdp_test[0], gdp_test_data]\n",
    "'''\n",
    "gdpmodels = jb.load('Decouple\\\\Decoup GDP Models')"
   ]
  },
  {
   "cell_type": "code",
   "execution_count": 10,
   "id": "21c01cc5",
   "metadata": {},
   "outputs": [],
   "source": [
    "#predicting future gdp based on the gdp models\n",
    "pred_gdp = {}\n",
    "neg = [] #looking for models that produce negative gdp at any point\n",
    "bad = [] #looking for models with bad r2 scores\n",
    "\n",
    "for i in isocodes:\n",
    "    #matching country to iso code to get pop prediction\n",
    "    locate = to_iso[to_iso['iso_code'] == i]\n",
    "    country = locate['country'].loc[locate.index[0]]\n",
    "    pops = pop[pop['country'] == country][['year','population']]\n",
    "    \n",
    "    #unpacking and using the model to predict\n",
    "    modelgdp, polygdp, r2, test = gdpmodels[i]\n",
    "    X_poly = polygdp.transform(pops)\n",
    "    y_pred = modelgdp.predict(X_poly)\n",
    "    \n",
    "    #looking for negatives\n",
    "    for j in y_pred:\n",
    "        if j < 0:\n",
    "            neg.append(i)\n",
    "            break\n",
    "            \n",
    "    #looking for bad r2\n",
    "    if r2 < 0.70:\n",
    "        bad.append(i)\n",
    "    \n",
    "    #save the predictions in the dictionary above\n",
    "    pred_gdp[i] = [pops['year'], y_pred, r2, test]\n",
    "\n",
    "#get rid of the bad predictions\n",
    "for i in neg:\n",
    "    pred_gdp.pop(i)\n",
    "    \n",
    "for i in bad:\n",
    "    try:\n",
    "        pred_gdp.pop(i)\n",
    "    except KeyError:\n",
    "        continue"
   ]
  },
  {
   "cell_type": "markdown",
   "id": "7d1918b6",
   "metadata": {},
   "source": [
    "## CO2 Models\n",
    "\n",
    "Train the CO2 models by splitting them into svr or poly regressions first, then training the appropriate model. Will also predict future CO2 using those models"
   ]
  },
  {
   "cell_type": "code",
   "execution_count": 11,
   "id": "cff112aa",
   "metadata": {
    "scrolled": true
   },
   "outputs": [],
   "source": [
    "#Dividing into what kind of plot to train the data on\n",
    "svrplt = [] #SVR works better when the co2 emissions are trending down at the end to the data set\n",
    "polyplt = [] #linear regressions work better when the data is trending up at the end of the data set\n",
    "keys = list(pred_gdp.keys())\n",
    "\n",
    "for i in keys:\n",
    "    co2temp = df_co2[df_co2['iso_code'] == i]['co2'] #gets co2 data for the country\n",
    "    \n",
    "    last = co2temp.iloc[-10:]#gets last 10 points in the co2 data\n",
    "    \n",
    "    if all(co2temp.max() > val for val in last): #if the the max co2 emission is not here, it is 'trending down'\n",
    "        svrplt.append(i)\n",
    "        \n",
    "    else:\n",
    "        polyplt.append(i)"
   ]
  },
  {
   "cell_type": "code",
   "execution_count": 12,
   "id": "577e7c85",
   "metadata": {},
   "outputs": [
    {
     "data": {
      "text/plain": [
       "\"\\nco2models = {}\\n\\nfor i in polyplt:\\n    #relevent data for a specific country\\n    dftemp = df_co2[df_co2['iso_code'] == i]\\n    \\n    #initialize model\\n    modelco2_int = LinearRegression()\\n    polyco2_int = PolynomialFeatures(degree=1)\\n    \\n    #features and target\\n    Xco2 = dftemp[['year','population','gdp','gdp_per_capita']]\\n    yco2 = dftemp['co2']\\n    \\n    #Trian the model\\n    co2Model = TrainModel(modelco2_int,polyco2_int,Xco2,yco2,threshold=0.9)\\n    \\n    modelco2, polyco2, refco2, co2_target, co2_test, co2_test_data = co2Model\\n    \\n    #put model in the dictionary\\n    co2models[i] = [modelco2,polyco2,co2_test[0], co2_test_data]\\n\""
      ]
     },
     "execution_count": 12,
     "metadata": {},
     "output_type": "execute_result"
    }
   ],
   "source": [
    "#training the linear regression models first\n",
    "'''\n",
    "co2models = {}\n",
    "\n",
    "for i in polyplt:\n",
    "    #relevent data for a specific country\n",
    "    dftemp = df_co2[df_co2['iso_code'] == i]\n",
    "    \n",
    "    #initialize model\n",
    "    modelco2_int = LinearRegression()\n",
    "    polyco2_int = PolynomialFeatures(degree=1)\n",
    "    \n",
    "    #features and target\n",
    "    Xco2 = dftemp[['year','population','gdp','gdp_per_capita']]\n",
    "    yco2 = dftemp['co2']\n",
    "    \n",
    "    #Trian the model\n",
    "    co2Model = TrainModel(modelco2_int,polyco2_int,Xco2,yco2,threshold=0.9)\n",
    "    \n",
    "    modelco2, polyco2, refco2, co2_target, co2_test, co2_test_data = co2Model\n",
    "    \n",
    "    #put model in the dictionary\n",
    "    co2models[i] = [modelco2,polyco2,co2_test[0], co2_test_data]\n",
    "'''"
   ]
  },
  {
   "cell_type": "code",
   "execution_count": 13,
   "id": "3418e063",
   "metadata": {},
   "outputs": [],
   "source": [
    "'''\n",
    "for i in svrplt:\n",
    "    #relevent data\n",
    "    dftemp = df_co2[df_co2['iso_code'] == i]\n",
    "    \n",
    "    #features and target data\n",
    "    Xco2 = dftemp[['year','population','gdp','gdp_per_capita']]\n",
    "    yco2 = dftemp['co2']\n",
    "    \n",
    "    #identifying the best c value for the svr model\n",
    "    validation = []\n",
    "    c_vals = np.array(range(100,180))\n",
    "\n",
    "    for j in c_vals:\n",
    "        modelco2_tst = SVR(C=(j+1))\n",
    "        co2Model_tst = TrainSVR(modelco2_tst, Xco2, yco2)\n",
    "        modelco2, refco2, co2_target, co2_test, co2_test_data = co2Model_tst\n",
    "        validation.append(co2_test[0])\n",
    "\n",
    "    validation = np.array(validation)\n",
    "    \n",
    "    if validation[validation.argmax()] > 0.8: #check to see if the model is good enough to use\n",
    "        \n",
    "        #train the best model\n",
    "        modelco2_int = SVR(C=validation.argmax()+1)\n",
    "        \n",
    "        co2Model = TrainSVR(modelco2_tst, Xco2, yco2)\n",
    "        modelco2, refco2, co2_target, co2_test, co2_test_data = co2Model\n",
    "    \n",
    "    #put the model into the dictionary\n",
    "    co2models[i] = [modelco2,co2_test[0],co2_test_data]\n",
    "'''\n",
    "co2models = jb.load('Decouple\\\\Decoup Co2 Models')"
   ]
  },
  {
   "cell_type": "code",
   "execution_count": 21,
   "id": "e4937dea",
   "metadata": {},
   "outputs": [],
   "source": [
    "#make predictions off of the co2 models\n",
    "pred_co2 = {}\n",
    "\n",
    "co2keys = list(co2models.keys())\n",
    "\n",
    "for i in co2keys:\n",
    "    #matching iso codes to the country and getting pop predictions\n",
    "    locate = to_iso[to_iso['iso_code'] == i]\n",
    "    country = locate['country'].loc[locate.index[0]]\n",
    "    fut = pop[pop['country'] == country][['year','population']]\n",
    "    \n",
    "    #building in the gdp per capita feature\n",
    "    fut['gdp'] = pred_gdp[i][1]\n",
    "    fut['gdp_per_capita'] = fut['gdp']/fut['population']\n",
    "    \n",
    "    #making the prediction\n",
    "    #the svr and poly models have different parameters so a svr model will put out a value error\n",
    "    try:\n",
    "        modelco2, polyco2, r2, test = co2models[i]\n",
    "        X_poly = polyco2.transform(fut)\n",
    "        y_pred = modelco2.predict(X_poly)\n",
    "    except ValueError:\n",
    "        modelco2, r2, test = co2models[i]\n",
    "        y_pred = modelco2.predict(fut)\n",
    "    \n",
    "    #put the prediction into the dictionary\n",
    "    pred_co2[i] = [fut['year'],fut['gdp_per_capita'], fut['gdp'], y_pred, r2]\n",
    "    "
   ]
  },
  {
   "cell_type": "markdown",
   "id": "a7f8ef0d",
   "metadata": {},
   "source": [
    "## Finding the median value\n",
    "This is the final step, and ultimate goal, of this project. We will find what the median decoupling GDP per capita will be."
   ]
  },
  {
   "cell_type": "code",
   "execution_count": 15,
   "id": "40730a3f",
   "metadata": {},
   "outputs": [],
   "source": [
    "#combing all the predicted data with the data we already have\n",
    "comb_co2 = {}\n",
    "comb_gdp_per_capita = {}\n",
    "comb_gdp = {}\n",
    "years = {}\n",
    "\n",
    "for i in co2keys:\n",
    "    dftemp = df_co2[df_co2['iso_code'] == i]\n",
    "    \n",
    "    #using lists to concatonate, then changin to a numpy array\n",
    "    #adding each combination to the respective dictionary\n",
    "    comb_co2[i] = np.array(list(dftemp['co2']) + list(pred_co2[i][3]))\n",
    "    years[i] = np.array(list(dftemp['year']) + list(pred_co2[i][0]))\n",
    "    comb_gdp_per_capita[i] = np.array(list(dftemp['gdp_per_capita']) + list(pred_co2[i][1]))\n",
    "    comb_gdp[i] = np.array(list(dftemp['gdp']) + list(pred_gdp[i][1]))"
   ]
  },
  {
   "cell_type": "code",
   "execution_count": 16,
   "id": "eed0cec4",
   "metadata": {},
   "outputs": [],
   "source": [
    "#using the combined data to identify the peak of the predicted co2 curve \n",
    "peak_co2 = []\n",
    "\n",
    "for i in co2keys:\n",
    "    #finding the max value in the combined co2 array\n",
    "    peak_co2.append(comb_gdp_per_capita[i][comb_co2[i].argmax()])\n",
    "\n",
    "#convert to numpy array\n",
    "peak_co2 = np.array(peak_co2)"
   ]
  },
  {
   "cell_type": "code",
   "execution_count": 17,
   "id": "49e6f0bd",
   "metadata": {},
   "outputs": [
    {
     "data": {
      "image/png": "[encoded data removed]",
      "text/plain": [
       "<Figure size 432x288 with 1 Axes>"
      ]
     },
     "metadata": {
      "needs_background": "light"
     },
     "output_type": "display_data"
    }
   ],
   "source": [
    "#Plotting data in a boxplot\n",
    "fig, axs = plt.subplots()\n",
    "\n",
    "box = plt.boxplot(peak_co2, sym='',vert=False) #build the box plot, with no outliers\n",
    "axs.set_xlabel('GDP Per Capita (PPP)') #x label\n",
    "axs.set_title('The Decoupling of GDP Per Capita and Co2 Emissions')#title\n",
    "axs.set(yticklabels=[])\n",
    "axs.tick_params(left=False)\n",
    "\n",
    "#displaying the median line value\n",
    "x, y = box['medians'][0].get_xydata()[1]\n",
    "plt.text(x, 1.085, '%.1f' % x,horizontalalignment='center')\n",
    "\n",
    "#Displaying Q1 and Q2 values\n",
    "x1, y1 = box['boxes'][0].get_xydata()[0] # bottom of left line\n",
    "plt.text(x1, 0.915, '%.1f' % x1, horizontalalignment='center', verticalalignment='top')\n",
    "x2, y2 = box['boxes'][0].get_xydata()[3] # bottom of right line\n",
    "plt.text(x2, 0.915, '%.1f' % x2, horizontalalignment='center', verticalalignment='top')\n",
    "\n",
    "plt.show()\n",
    "#fig.savefig('DecoupleCo2.jpeg')"
   ]
  }
 ],
 "metadata": {
  "kernelspec": {
   "display_name": "Python 3 (ipykernel)",
   "language": "python",
   "name": "python3"
  },
  "language_info": {
   "codemirror_mode": {
    "name": "ipython",
    "version": 3
   },
   "file_extension": ".py",
   "mimetype": "text/x-python",
   "name": "python",
   "nbconvert_exporter": "python",
   "pygments_lexer": "ipython3",
   "version": "3.9.13"
  }
 },
 "nbformat": 4,
 "nbformat_minor": 5
}
